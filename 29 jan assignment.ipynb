{
 "cells": [
  {
   "cell_type": "code",
   "execution_count": null,
   "id": "f9921d73-9f6c-489f-baeb-4b35c858e9fb",
   "metadata": {},
   "outputs": [],
   "source": [
    "# answer 1 Python was created by Guido van Rossum, and first released on February 20, 1991. "
   ]
  },
  {
   "cell_type": "code",
   "execution_count": null,
   "id": "6ffa9d9b-7e38-44c5-86ff-051f0c72bbc6",
   "metadata": {},
   "outputs": [],
   "source": [
    "# answer 2 Python is an interpreted programming language, supporting object-oriented, structured, and functional programming."
   ]
  },
  {
   "cell_type": "code",
   "execution_count": null,
   "id": "0682ddc5-28d8-4854-b3e4-0d8e7425a88b",
   "metadata": {},
   "outputs": [],
   "source": [
    "# answer 3 Yes, Python is a case-sensitive language, so identifiers are case-sensitive. \n",
    "#That is, it considers uppercase and lowercase characters differently.\n",
    "#The property is useful while naming identifiers to make the code more readable and maintainable."
   ]
  },
  {
   "cell_type": "code",
   "execution_count": null,
   "id": "2433b451-c6a3-40e0-891d-87a8beb4d6e4",
   "metadata": {},
   "outputs": [],
   "source": [
    "# answer 4 The Files with the . py extension contain the Python source code."
   ]
  },
  {
   "cell_type": "code",
   "execution_count": null,
   "id": "821dfd9c-2c82-4fd8-90a3-7b58c727863d",
   "metadata": {},
   "outputs": [],
   "source": [
    "# answer 5 Python is an interpreted language, which means the source code of a Python program is converted into bytecode\n",
    "#that is then executed by the Python virtual machine. Python is different from major compiled languages,\n",
    "#such as C and C + +, as Python code is not required to be built and linked like code for these languages."
   ]
  },
  {
   "cell_type": "code",
   "execution_count": 1,
   "id": "c1c7bc91-eff8-49e9-b5db-3d5b1a1e2d13",
   "metadata": {},
   "outputs": [],
   "source": [
    "# answer 6 A Python program is constructed from code blocks. A block is a piece of Python program text that is executed as a unit.\n",
    "#The following are blocks: a module, a function body, and a class definition."
   ]
  },
  {
   "cell_type": "code",
   "execution_count": null,
   "id": "89f122ad-519c-441c-8c5d-afd53531950b",
   "metadata": {},
   "outputs": [],
   "source": [
    "# answer 7 Comments in Python are identified with a hash symbol, #, and extend to the end of the line."
   ]
  },
  {
   "cell_type": "code",
   "execution_count": null,
   "id": "e2709aae-e241-445f-acc4-c1e7d692db00",
   "metadata": {},
   "outputs": [],
   "source": [
    "# answer 8 The function sys. version can help us to find the version of python that we are currently working on."
   ]
  },
  {
   "cell_type": "code",
   "execution_count": null,
   "id": "90370b24-3ff3-40d5-aa0f-99808c35fe5b",
   "metadata": {},
   "outputs": [],
   "source": [
    "# answer 9 Python supports the creation of anonymous functions\n",
    "#(i.e. functions that are not bound to a name) at runtime, using a construct called lambda"
   ]
  },
  {
   "cell_type": "code",
   "execution_count": null,
   "id": "ad95e89c-b4bc-45b7-9f86-d2ac829b14cd",
   "metadata": {},
   "outputs": [],
   "source": [
    "# answer 10 PIP is a recursive acronym for “Preferred Installer Program"
   ]
  },
  {
   "cell_type": "code",
   "execution_count": null,
   "id": "cec6d2b8-ef61-4cf9-8feb-23eb702a717b",
   "metadata": {},
   "outputs": [],
   "source": [
    "# answer 11 Python abs() returns absolute value of a number.\n",
    "#Python all() returns true when all elements in iterable is true.\n",
    "\n",
    "#Python any() Checks if any Element of an Iterable is True.\n",
    "#Python ascii() ...\n",
    "#Python bin() ...\n",
    "#Python bool() ...\n",
    "#Python bytearray() ...\n",
    "#Python bytes()"
   ]
  },
  {
   "cell_type": "code",
   "execution_count": null,
   "id": "7e951429-a41a-4b76-bb73-e52c3e707443",
   "metadata": {},
   "outputs": [],
   "source": [
    "# answer 12 Identifiers can be of any length."
   ]
  },
  {
   "cell_type": "code",
   "execution_count": null,
   "id": "bd5b6169-c7dd-4ced-92ad-8577ee9362d7",
   "metadata": {},
   "outputs": [],
   "source": [
    "# answer 13 Presence of third-party modules.\n",
    "#Extensive support libraries(NumPy for numerical calculations, Pandas for data analytics, etc.)\n",
    "#Open source and large active community base.\n",
    "#Versatile, Easy to read, learn and write.\n",
    "#User-friendly data structures.\n",
    "#High-level language."
   ]
  },
  {
   "cell_type": "code",
   "execution_count": null,
   "id": "fb7b9f84-7f6c-435f-b761-e71d8608e9ef",
   "metadata": {},
   "outputs": [],
   "source": [
    "# answer 14 Memory management in Python involves a private heap containing all Python objects and data structures.\n",
    "#The management of this private heap is ensured internally by the Python memory manager."
   ]
  },
  {
   "cell_type": "code",
   "execution_count": null,
   "id": "2a6dbaec-0996-4310-b05f-922ad0da7438",
   "metadata": {},
   "outputs": [],
   "source": [
    "# answer 15 \n",
    "#Open a browser to the Python website www.python.org  and download the Windows installer.\n",
    "#2. Double click on the downloaded file and install Python for all users,\n",
    "#and ensure that Python is added to your path. Click on Install now to begin\n",
    "\n",
    "\n",
    "#First, we must find the directory where we installed Python. A typical installation would have the following path,\n",
    "#C:\\Users\\MyUserName\\AppData\\Local\\Programs\\Python\\Python310\n",
    "\n",
    "#Now, we will need to add this to the PATH variable, we right click on \"This PC\" and go to \"Properties\".\n",
    "\n",
    "#Then, we click on the \"Advanced system settings\" in the menu on the left.going\n",
    "\n",
    "#In the bottom right, we can see a button labeled \"Environment Variables\". We will click on it to open another window to edit these variables.\n",
    "\n",
    "#Now, we select the \"Path variable\" in the \"System variables\" section and click \"Edit\". \n",
    "#The next screen will show all the directories currently part of the PATH variable.\n",
    "\n",
    "#Another window opens up where we can see all the paths for the currently configured system variables.\n",
    "#To add a new path for our Python program, we will click on the \"New\" button on the right side and paste the path in Step 1\n",
    "\n",
    "#We have successfully added the path for our Python program to our system's environment variables.\n",
    "#The best practice is to restart the system afterward for the change to occur.\n",
    "\n",
    "#Now, we can verify if the PATH variable was configured correctly by opening up the terminal"
   ]
  },
  {
   "cell_type": "code",
   "execution_count": null,
   "id": "f8450e7f-e94a-4b18-9fdd-e7e25f1c96bd",
   "metadata": {},
   "outputs": [],
   "source": [
    "# answer 16 The first line of python code cannot have an indentation. Indentation is mandatory in python to define the blocks of statements\n",
    "#The number of spaces must be uniform in a block of code. It is preferred to use whitespaces instead of tabs to indent in python."
   ]
  }
 ],
 "metadata": {
  "kernelspec": {
   "display_name": "Python 3 (ipykernel)",
   "language": "python",
   "name": "python3"
  },
  "language_info": {
   "codemirror_mode": {
    "name": "ipython",
    "version": 3
   },
   "file_extension": ".py",
   "mimetype": "text/x-python",
   "name": "python",
   "nbconvert_exporter": "python",
   "pygments_lexer": "ipython3",
   "version": "3.10.8"
  }
 },
 "nbformat": 4,
 "nbformat_minor": 5
}
