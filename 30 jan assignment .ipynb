{
 "cells": [
  {
   "cell_type": "code",
   "execution_count": 7,
   "id": "b0f7e5c0-5bb9-4dd2-9149-caac1ecec698",
   "metadata": {},
   "outputs": [
    {
     "name": "stdin",
     "output_type": "stream",
     "text": [
      "enter percentage 65\n"
     ]
    },
    {
     "name": "stdout",
     "output_type": "stream",
     "text": [
      "grade C\n"
     ]
    }
   ],
   "source": [
    "percentage = int(input('enter percentage'))\n",
    "if percentage>90:\n",
    "    print('grade A')\n",
    "elif percentage>80 and percentage<=90:\n",
    "    print('grade B')\n",
    "elif percentage>=60 and percentage<=80:\n",
    "    print ('grade C')\n",
    "elif percentage<60:\n",
    "    print('grade D')\n",
    "else:\n",
    "    print('invalid input')\n"
   ]
  },
  {
   "cell_type": "code",
   "execution_count": 13,
   "id": "7b1d6bcf-4638-4065-9de2-82666e72ed55",
   "metadata": {},
   "outputs": [
    {
     "name": "stdin",
     "output_type": "stream",
     "text": [
      "enter cost_price 14565455\n"
     ]
    },
    {
     "name": "stdout",
     "output_type": "stream",
     "text": [
      "tax 15%\n"
     ]
    }
   ],
   "source": [
    "cost_price = float (input('enter cost_price'))\n",
    "if cost_price>100000:\n",
    "    print('tax 15%')\n",
    "elif cost_price>50000 and cost_price<=100000:\n",
    "    print ('tax 10%')\n",
    "elif cost_price<=50000:\n",
    "    print('tax 5%')\n",
    "else:\n",
    "    print ('invalid input')"
   ]
  },
  {
   "cell_type": "code",
   "execution_count": 20,
   "id": "2f31ac97-7385-4453-abf4-3cd95d66580f",
   "metadata": {},
   "outputs": [
    {
     "name": "stdin",
     "output_type": "stream",
     "text": [
      " agra\n"
     ]
    },
    {
     "name": "stdout",
     "output_type": "stream",
     "text": [
      "taj mahal\n"
     ]
    }
   ],
   "source": [
    "city = input()\n",
    "if city == 'delhi':\n",
    "    print('red fort')\n",
    "elif city == 'agra':\n",
    "    print('taj mahal')\n",
    "elif city== 'jaipur':\n",
    "    print('jal mahal')\n",
    "else:\n",
    "    print('invalid input')"
   ]
  },
  {
   "cell_type": "code",
   "execution_count": 2,
   "id": "c2184e58-0d8a-48df-a6f4-3ff16b8d1034",
   "metadata": {},
   "outputs": [
    {
     "name": "stdin",
     "output_type": "stream",
     "text": [
      "enter number 15\n"
     ]
    },
    {
     "name": "stdout",
     "output_type": "stream",
     "text": [
      "1\n"
     ]
    }
   ],
   "source": [
    "n=float(input ('enter number'))\n",
    "count=0\n",
    "while n>10:\n",
    "    n=n/3\n",
    "    count=count+1\n",
    "print(count)"
   ]
  },
  {
   "cell_type": "code",
   "execution_count": 6,
   "id": "0fe7f7a7-149b-4f06-b3fd-864231b27c24",
   "metadata": {},
   "outputs": [
    {
     "name": "stdout",
     "output_type": "stream",
     "text": [
      "1\n",
      "2\n",
      "3\n",
      "4\n",
      "5\n"
     ]
    }
   ],
   "source": [
    "#A while loop in Python is used to repeatedly execute a block of code\n",
    "#as long as a certain condition remains true. It's especially useful when\n",
    "#you don't know beforehand how many times you'll need to repeat the code.\n",
    "#The loop continues to run until the condition becomes false.\n",
    "\n",
    "#The general syntax of a while loop in Python is:\n",
    "#while condition:\n",
    "    # code to execute\n",
    "    \n",
    "    \n",
    "    \n",
    "#Here's an example to illustrate the concept:\n",
    "\n",
    "# Example: Printing numbers from 1 to 5 using a while loop\n",
    "\n",
    "num = 1\n",
    "while num <= 5:  # The loop will run as long as num is less than or equal to 5\n",
    "    print(num)\n",
    "    num += 1     # Increment num by 1 in each iteration\n",
    "\n",
    "    \n",
    "    \n",
    "#In this example, the while loop iterates as long as the condition num \n",
    "#<= 5 holds true. It prints the value of num and then increments it by 1.\n",
    "#The loop stops when num becomes 6, at which point the condition becomes false.\n",
    "\n",
    "#Here's a breakdown of the loop execution:\n",
    "\n",
    "#Iteration 1: num is 1, 1 <= 5 is true, so it prints 1 and increments num to 2.\n",
    "#Iteration 2: num is 2, 2 <= 5 is true, so it prints 2 and increments num to 3.\n",
    "#... and so on, until num reaches 6, at which point 6 <= 5 is false,\n",
    "#and the loop terminates.\n",
    "#Use cases for while loops include scenarios where you want to \n",
    "#repeat an action until a specific condition is met or until some form \n",
    "#of input is received. For instance:\n",
    "\n",
    "#User Input Validation: You can use a while loop to repeatedly prompt \n",
    "#a user for input until they provide valid input. For instance, asking for \n",
    "#a positive number and ensuring the user provides one.\n",
    "\n",
    "#Working with Dynamic Data: When working with data from external\n",
    "#sources like files or databases, you might not know how many records\n",
    "#you need to process. A while loop can help process data until there's \n",
    "#no more data to process.\n",
    "\n",
    "#Simulations and Games: In game development or simulations,\n",
    "#you might use a while loop to control the game loop, where the game \n",
    "#logic is executed until certain conditions indicate the game should end.\n",
    "\n",
    "#Remember to include some mechanism within the loop to eventually\n",
    "#make the loop condition false; otherwise, you risk entering into \n",
    "#an infinite loop, which can freeze your program. Always ensure that \n",
    "#the loop condition becomes false at some point to prevent this.\n"
   ]
  },
  {
   "cell_type": "code",
   "execution_count": 5,
   "id": "c65a400c-b8c2-4714-9dab-9877ca7618db",
   "metadata": {},
   "outputs": [
    {
     "name": "stdout",
     "output_type": "stream",
     "text": [
      "10\n",
      "9\n",
      "8\n",
      "7\n",
      "6\n",
      "5\n",
      "4\n",
      "3\n",
      "2\n",
      "1\n"
     ]
    }
   ],
   "source": [
    "\n",
    "count=10\n",
    "while count>0:\n",
    "    print(count)    \n",
    "    count=count-1\n",
    "    "
   ]
  },
  {
   "cell_type": "code",
   "execution_count": 7,
   "id": "c48caa1c-6074-4ed3-bdc7-ee524416384b",
   "metadata": {},
   "outputs": [
    {
     "name": "stdout",
     "output_type": "stream",
     "text": [
      "10\n",
      "9\n",
      "8\n",
      "7\n",
      "6\n",
      "5\n",
      "4\n",
      "3\n",
      "2\n",
      "1\n"
     ]
    }
   ],
   "source": [
    "\n",
    "k=10\n",
    "while k>0:\n",
    "    print(k)    \n",
    "    k=k-1\n",
    "    "
   ]
  },
  {
   "cell_type": "code",
   "execution_count": 12,
   "id": "87ff7c6e-4a6b-43b8-874b-26884308dfe3",
   "metadata": {},
   "outputs": [
    {
     "name": "stdout",
     "output_type": "stream",
     "text": [
      "1\n",
      "12\n",
      "123\n",
      "1234\n",
      "12345\n"
     ]
    }
   ],
   "source": [
    "i=1\n",
    "while i<=5:\n",
    "    j=1\n",
    "    while j<=i:\n",
    "        print(j,end='')\n",
    "        j=j+1\n",
    "    print(\"\")\n",
    "    i=i+1"
   ]
  },
  {
   "cell_type": "code",
   "execution_count": 6,
   "id": "abf374d1-2c62-4973-8c91-1eb358cfd32d",
   "metadata": {},
   "outputs": [
    {
     "name": "stdout",
     "output_type": "stream",
     "text": [
      "*\n",
      "***\n",
      "******\n",
      "**********\n",
      "***************\n"
     ]
    }
   ],
   "source": [
    "i=1\n",
    "while i<=5:\n",
    "    j=1\n",
    "    while j<=i:\n",
    "        print(j*\"*\",end='')\n",
    "        j=j+1\n",
    "    print(\"\")\n",
    "    i=i+1"
   ]
  },
  {
   "cell_type": "code",
   "execution_count": 9,
   "id": "b25901a0-af72-4f6a-ac6d-d3430311d3f6",
   "metadata": {},
   "outputs": [
    {
     "name": "stdout",
     "output_type": "stream",
     "text": [
      "0\n",
      "000\n",
      "000000\n",
      "0000000000\n",
      "000000000000000\n"
     ]
    }
   ],
   "source": [
    "i=1\n",
    "while i<=5:\n",
    "    j=1\n",
    "    while j<=i:\n",
    "        print(j*\"0\",end='')\n",
    "        j=j+1\n",
    "    print(\"\")\n",
    "    i=i+1\n",
    "        \n",
    "        \n",
    "   "
   ]
  },
  {
   "cell_type": "code",
   "execution_count": null,
   "id": "165efab8-9f36-46db-b6c9-f2be79a10de5",
   "metadata": {},
   "outputs": [],
   "source": []
  },
  {
   "cell_type": "code",
   "execution_count": null,
   "id": "c8600c31-8862-4c3a-9add-aef57be31acf",
   "metadata": {},
   "outputs": [],
   "source": []
  }
 ],
 "metadata": {
  "kernelspec": {
   "display_name": "Python 3 (ipykernel)",
   "language": "python",
   "name": "python3"
  },
  "language_info": {
   "codemirror_mode": {
    "name": "ipython",
    "version": 3
   },
   "file_extension": ".py",
   "mimetype": "text/x-python",
   "name": "python",
   "nbconvert_exporter": "python",
   "pygments_lexer": "ipython3",
   "version": "3.10.8"
  }
 },
 "nbformat": 4,
 "nbformat_minor": 5
}
